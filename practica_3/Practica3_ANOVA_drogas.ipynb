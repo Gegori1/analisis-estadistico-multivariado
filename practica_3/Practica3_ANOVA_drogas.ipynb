{
 "cells": [
  {
   "cell_type": "markdown",
   "id": "1f77182c",
   "metadata": {},
   "source": [
    "# Análisis de la Varianza"
   ]
  },
  {
   "cell_type": "code",
   "execution_count": 12,
   "id": "40449beb",
   "metadata": {},
   "outputs": [],
   "source": [
    "# https://archive.ics.uci.edu/ml/datasets/Drug+consumption+%28quantified%29"
   ]
  },
  {
   "cell_type": "code",
   "execution_count": 13,
   "id": "a72c0e5a",
   "metadata": {
    "title": "Importar librerías"
   },
   "outputs": [],
   "source": [
    "import pandas as pd\n",
    "import numpy as np\n",
    "import random\n",
    "import researchpy as rp\n",
    "import statsmodels.api as sm\n",
    "from statsmodels.formula.api import ols\n",
    "import statsmodels.stats.multicomp as mc\n",
    "import matplotlib.pyplot as plt\n",
    "import pingouin as pg\n",
    "import seaborn as sns"
   ]
  },
  {
   "cell_type": "code",
   "execution_count": 14,
   "id": "698168c9",
   "metadata": {},
   "outputs": [],
   "source": [
    "from scipy import stats\n",
    "import scikit_posthocs as sp"
   ]
  },
  {
   "cell_type": "code",
   "execution_count": 15,
   "id": "8a6e4106",
   "metadata": {},
   "outputs": [],
   "source": [
    "data = pd.read_csv(\"Drug_Consumption.csv\")\n",
    "# Control drug 'Semer'\n",
    "data.drop(\"Semer\", axis=1, inplace=True)"
   ]
  },
  {
   "cell_type": "code",
   "execution_count": 16,
   "id": "a954ddd1",
   "metadata": {},
   "outputs": [],
   "source": [
    "# limpieza de base de datos para su análisis\n",
    "# asignando códigos\n",
    "codes = {\n",
    "    \"CL6\": 1, \"CL5\": 1, \"CL4\": 1,\n",
    "    \"CL3\": 0.5,\n",
    "    \"CL2\": 0, \"CL1\": 0, \"CL0\": 0\n",
    "}\n",
    "\n",
    "datos = (\n",
    "    data\n",
    "    .assign(\n",
    "        # renombrando para reagrupar\n",
    "        Consumption = lambda k: k.iloc[:,13:]\n",
    "                                .replace(codes)\n",
    "                                .sum(axis=1),\n",
    "        Age = lambda k: k.Age.replace({\"55-64\":\"45+\", \"65+\":\"45+\", \"45-54\":\"45+\"}),\n",
    "        Education = lambda k: k.Education.replace(\n",
    "            {\n",
    "                \"Left school at 18 years\": \"Left school at or before 18\",\n",
    "                \"Left school at 16 years\": \"Left school at or before 18\",\n",
    "                \"Left school at 17 years\": \"Left school at or before 18\",\n",
    "                \"Left school before 16 years\": \"Left school at or before 18\",\n",
    "                \"Masters degree\": \"Master or Doctorate degree\",\n",
    "                \"Doctorate degree\": \"Master or Doctorate degree\",\n",
    "                \"Some college or university, no certificate or degree\":\"Some co. or un. no certificate\"\n",
    "            }\n",
    "        )\n",
    "    )\n",
    "    # seleccion de variables a estudiar\n",
    "    [[\"Age\", \"Education\", \"Consumption\"]]\n",
    ")"
   ]
  },
  {
   "cell_type": "markdown",
   "id": "ddcdcbf6",
   "metadata": {},
   "source": [
    "### Análisis por grupos de Edad"
   ]
  },
  {
   "cell_type": "code",
   "execution_count": 17,
   "id": "dab4d727",
   "metadata": {},
   "outputs": [
    {
     "name": "stderr",
     "output_type": "stream",
     "text": [
      "C:\\Users\\alber\\AppData\\Local\\Packages\\PythonSoftwareFoundation.Python.3.9_qbz5n2kfra8p0\\LocalCache\\local-packages\\Python39\\site-packages\\seaborn\\_decorators.py:36: FutureWarning: Pass the following variable as a keyword arg: x. From version 0.12, the only valid positional argument will be `data`, and passing other arguments without an explicit keyword will result in an error or misinterpretation.\n",
      "  warnings.warn(\n"
     ]
    },
    {
     "data": {
      "text/plain": [
       "Text(0.5, 1.0, 'Número de entradas por grupo de Edad')"
      ]
     },
     "execution_count": 17,
     "metadata": {},
     "output_type": "execute_result"
    },
    {
     "data": {
      "image/png": "[encoded data removed]",
      "text/plain": [
       "<Figure size 432x288 with 1 Axes>"
      ]
     },
     "metadata": {
      "needs_background": "light"
     },
     "output_type": "display_data"
    }
   ],
   "source": [
    "# Primer análisis\n",
    "ax=sns.countplot(datos.Age)\n",
    "plt.xticks(rotation=90);\n",
    "plt.xlabel(\"Grupo de Edad\", size=15)\n",
    "plt.ylabel(\"Cuentas\", size=15)\n",
    "plt.title(\"Número de entradas por grupo de Edad\", size=15)"
   ]
  },
  {
   "cell_type": "code",
   "execution_count": 18,
   "id": "02f1be7f",
   "metadata": {},
   "outputs": [],
   "source": [
    "muestra_age = [datos.query(f\"Age == '{i}'\").sample(300) for i in datos.Age.unique()]\n",
    "sample_age = pd.concat(muestra_age, axis=0)"
   ]
  },
  {
   "cell_type": "code",
   "execution_count": 19,
   "id": "5bcb4919",
   "metadata": {},
   "outputs": [
    {
     "name": "stderr",
     "output_type": "stream",
     "text": [
      "C:\\Users\\alber\\AppData\\Local\\Packages\\PythonSoftwareFoundation.Python.3.9_qbz5n2kfra8p0\\LocalCache\\local-packages\\Python39\\site-packages\\seaborn\\_decorators.py:36: FutureWarning: Pass the following variable as a keyword arg: x. From version 0.12, the only valid positional argument will be `data`, and passing other arguments without an explicit keyword will result in an error or misinterpretation.\n",
      "  warnings.warn(\n"
     ]
    },
    {
     "data": {
      "image/png": "[encoded data removed]",
      "text/plain": [
       "<Figure size 432x288 with 1 Axes>"
      ]
     },
     "metadata": {
      "needs_background": "light"
     },
     "output_type": "display_data"
    }
   ],
   "source": [
    "ax=sns.countplot(sample_age.Age)\n",
    "plt.xticks(rotation=90);"
   ]
  },
  {
   "cell_type": "code",
   "execution_count": 20,
   "id": "5a93074a",
   "metadata": {},
   "outputs": [
    {
     "data": {
      "text/html": [
       "<div>\n",
       "<style scoped>\n",
       "    .dataframe tbody tr th:only-of-type {\n",
       "        vertical-align: middle;\n",
       "    }\n",
       "\n",
       "    .dataframe tbody tr th {\n",
       "        vertical-align: top;\n",
       "    }\n",
       "\n",
       "    .dataframe thead th {\n",
       "        text-align: right;\n",
       "    }\n",
       "</style>\n",
       "<table border=\"1\" class=\"dataframe\">\n",
       "  <thead>\n",
       "    <tr style=\"text-align: right;\">\n",
       "      <th></th>\n",
       "      <th>Age</th>\n",
       "      <th>Education</th>\n",
       "      <th>Consumption</th>\n",
       "    </tr>\n",
       "  </thead>\n",
       "  <tbody>\n",
       "    <tr>\n",
       "      <th>0</th>\n",
       "      <td>18-24</td>\n",
       "      <td>300</td>\n",
       "      <td>300</td>\n",
       "    </tr>\n",
       "    <tr>\n",
       "      <th>1</th>\n",
       "      <td>25-34</td>\n",
       "      <td>300</td>\n",
       "      <td>300</td>\n",
       "    </tr>\n",
       "    <tr>\n",
       "      <th>2</th>\n",
       "      <td>35-44</td>\n",
       "      <td>300</td>\n",
       "      <td>300</td>\n",
       "    </tr>\n",
       "    <tr>\n",
       "      <th>3</th>\n",
       "      <td>45+</td>\n",
       "      <td>300</td>\n",
       "      <td>300</td>\n",
       "    </tr>\n",
       "  </tbody>\n",
       "</table>\n",
       "</div>"
      ],
      "text/plain": [
       "     Age  Education  Consumption\n",
       "0  18-24        300          300\n",
       "1  25-34        300          300\n",
       "2  35-44        300          300\n",
       "3    45+        300          300"
      ]
     },
     "execution_count": 20,
     "metadata": {},
     "output_type": "execute_result"
    }
   ],
   "source": [
    "# Individuos por grupo\n",
    "groups = sample_age.groupby('Age').count().reset_index()\n",
    "groups"
   ]
  },
  {
   "cell_type": "code",
   "execution_count": 21,
   "id": "fb92c862",
   "metadata": {},
   "outputs": [
    {
     "name": "stdout",
     "output_type": "stream",
     "text": [
      "\n",
      "\n"
     ]
    },
    {
     "data": {
      "text/html": [
       "<div>\n",
       "<style scoped>\n",
       "    .dataframe tbody tr th:only-of-type {\n",
       "        vertical-align: middle;\n",
       "    }\n",
       "\n",
       "    .dataframe tbody tr th {\n",
       "        vertical-align: top;\n",
       "    }\n",
       "\n",
       "    .dataframe thead tr th {\n",
       "        text-align: left;\n",
       "    }\n",
       "\n",
       "    .dataframe thead tr:last-of-type th {\n",
       "        text-align: right;\n",
       "    }\n",
       "</style>\n",
       "<table border=\"1\" class=\"dataframe\">\n",
       "  <thead>\n",
       "    <tr>\n",
       "      <th></th>\n",
       "      <th colspan=\"6\" halign=\"left\">Consumption</th>\n",
       "    </tr>\n",
       "    <tr>\n",
       "      <th></th>\n",
       "      <th>N</th>\n",
       "      <th>Mean</th>\n",
       "      <th>SD</th>\n",
       "      <th>SE</th>\n",
       "      <th>95% Conf.</th>\n",
       "      <th>Interval</th>\n",
       "    </tr>\n",
       "    <tr>\n",
       "      <th>Age</th>\n",
       "      <th></th>\n",
       "      <th></th>\n",
       "      <th></th>\n",
       "      <th></th>\n",
       "      <th></th>\n",
       "      <th></th>\n",
       "    </tr>\n",
       "  </thead>\n",
       "  <tbody>\n",
       "    <tr>\n",
       "      <th>18-24</th>\n",
       "      <td>300</td>\n",
       "      <td>7.2467</td>\n",
       "      <td>2.8583</td>\n",
       "      <td>0.1650</td>\n",
       "      <td>6.9219</td>\n",
       "      <td>7.5714</td>\n",
       "    </tr>\n",
       "    <tr>\n",
       "      <th>25-34</th>\n",
       "      <td>300</td>\n",
       "      <td>5.2867</td>\n",
       "      <td>2.6548</td>\n",
       "      <td>0.1533</td>\n",
       "      <td>4.9850</td>\n",
       "      <td>5.5883</td>\n",
       "    </tr>\n",
       "    <tr>\n",
       "      <th>35-44</th>\n",
       "      <td>300</td>\n",
       "      <td>4.2467</td>\n",
       "      <td>1.9374</td>\n",
       "      <td>0.1119</td>\n",
       "      <td>4.0265</td>\n",
       "      <td>4.4668</td>\n",
       "    </tr>\n",
       "    <tr>\n",
       "      <th>45+</th>\n",
       "      <td>300</td>\n",
       "      <td>3.7533</td>\n",
       "      <td>1.4350</td>\n",
       "      <td>0.0829</td>\n",
       "      <td>3.5903</td>\n",
       "      <td>3.9164</td>\n",
       "    </tr>\n",
       "  </tbody>\n",
       "</table>\n",
       "</div>"
      ],
      "text/plain": [
       "      Consumption                                           \n",
       "                N    Mean      SD      SE 95% Conf. Interval\n",
       "Age                                                         \n",
       "18-24         300  7.2467  2.8583  0.1650    6.9219   7.5714\n",
       "25-34         300  5.2867  2.6548  0.1533    4.9850   5.5883\n",
       "35-44         300  4.2467  1.9374  0.1119    4.0265   4.4668\n",
       "45+           300  3.7533  1.4350  0.0829    3.5903   3.9164"
      ]
     },
     "execution_count": 21,
     "metadata": {},
     "output_type": "execute_result"
    }
   ],
   "source": [
    "# Estadisticos de cada distribucion\n",
    "res = rp.summary_cont(sample_age.groupby('Age'))\n",
    "res"
   ]
  },
  {
   "cell_type": "code",
   "execution_count": 22,
   "id": "72ed818c",
   "metadata": {},
   "outputs": [
    {
     "data": {
      "image/png": "[encoded data removed]",
      "text/plain": [
       "<Figure size 432x288 with 1 Axes>"
      ]
     },
     "metadata": {
      "needs_background": "light"
     },
     "output_type": "display_data"
    }
   ],
   "source": [
    "# prueba visual de las distribuciones y medias\n",
    "sample_age.boxplot('Consumption',by='Age',rot=90)\n",
    "plt.suptitle(\"Boxplot agrupado por Edad\", size=15)\n",
    "plt.xlabel(\"Edad\", size=13)\n",
    "plt.xticks(size=12)\n",
    "plt.title(\"\");"
   ]
  },
  {
   "cell_type": "code",
   "execution_count": 23,
   "id": "fd696ce7",
   "metadata": {},
   "outputs": [
    {
     "data": {
      "text/html": [
       "<div>\n",
       "<style scoped>\n",
       "    .dataframe tbody tr th:only-of-type {\n",
       "        vertical-align: middle;\n",
       "    }\n",
       "\n",
       "    .dataframe tbody tr th {\n",
       "        vertical-align: top;\n",
       "    }\n",
       "\n",
       "    .dataframe thead th {\n",
       "        text-align: right;\n",
       "    }\n",
       "</style>\n",
       "<table border=\"1\" class=\"dataframe\">\n",
       "  <thead>\n",
       "    <tr style=\"text-align: right;\">\n",
       "      <th></th>\n",
       "      <th>W</th>\n",
       "      <th>pval</th>\n",
       "      <th>normal</th>\n",
       "    </tr>\n",
       "  </thead>\n",
       "  <tbody>\n",
       "    <tr>\n",
       "      <th>25-34</th>\n",
       "      <td>0.905559</td>\n",
       "      <td>9.199336e-13</td>\n",
       "      <td>False</td>\n",
       "    </tr>\n",
       "    <tr>\n",
       "      <th>35-44</th>\n",
       "      <td>0.825754</td>\n",
       "      <td>1.089460e-17</td>\n",
       "      <td>False</td>\n",
       "    </tr>\n",
       "    <tr>\n",
       "      <th>18-24</th>\n",
       "      <td>0.978735</td>\n",
       "      <td>1.952779e-04</td>\n",
       "      <td>False</td>\n",
       "    </tr>\n",
       "    <tr>\n",
       "      <th>45+</th>\n",
       "      <td>0.827046</td>\n",
       "      <td>1.265768e-17</td>\n",
       "      <td>False</td>\n",
       "    </tr>\n",
       "  </tbody>\n",
       "</table>\n",
       "</div>"
      ],
      "text/plain": [
       "              W          pval  normal\n",
       "25-34  0.905559  9.199336e-13   False\n",
       "35-44  0.825754  1.089460e-17   False\n",
       "18-24  0.978735  1.952779e-04   False\n",
       "45+    0.827046  1.265768e-17   False"
      ]
     },
     "execution_count": 23,
     "metadata": {},
     "output_type": "execute_result"
    }
   ],
   "source": [
    "# Normalidad\n",
    "#Normalidad prueba de Shapiro-Wilk\n",
    "#Ho:Normalidad(p>0.05)\n",
    "#H1: No normalidad (p<0.05)\n",
    "#Normalidad en las variables\n",
    "pg.normality(sample_age, dv='Consumption', group='Age')"
   ]
  },
  {
   "cell_type": "code",
   "execution_count": 24,
   "id": "af974ea3",
   "metadata": {},
   "outputs": [
    {
     "data": {
      "text/plain": [
       "Age\n",
       "18-24    8.169721\n",
       "25-34    7.047982\n",
       "35-44    3.753333\n",
       "45+      2.059353\n",
       "Name: Consumption, dtype: float64"
      ]
     },
     "execution_count": 24,
     "metadata": {},
     "output_type": "execute_result"
    }
   ],
   "source": [
    "# Varianza entre grupos\n",
    "sample_age.groupby('Age')['Consumption'].var()"
   ]
  },
  {
   "cell_type": "code",
   "execution_count": 26,
   "id": "769652fe",
   "metadata": {},
   "outputs": [
    {
     "data": {
      "text/html": [
       "<div>\n",
       "<style scoped>\n",
       "    .dataframe tbody tr th:only-of-type {\n",
       "        vertical-align: middle;\n",
       "    }\n",
       "\n",
       "    .dataframe tbody tr th {\n",
       "        vertical-align: top;\n",
       "    }\n",
       "\n",
       "    .dataframe thead th {\n",
       "        text-align: right;\n",
       "    }\n",
       "</style>\n",
       "<table border=\"1\" class=\"dataframe\">\n",
       "  <thead>\n",
       "    <tr style=\"text-align: right;\">\n",
       "      <th></th>\n",
       "      <th>W</th>\n",
       "      <th>pval</th>\n",
       "      <th>equal_var</th>\n",
       "    </tr>\n",
       "  </thead>\n",
       "  <tbody>\n",
       "    <tr>\n",
       "      <th>levene</th>\n",
       "      <td>46.410802</td>\n",
       "      <td>2.256792e-28</td>\n",
       "      <td>False</td>\n",
       "    </tr>\n",
       "  </tbody>\n",
       "</table>\n",
       "</div>"
      ],
      "text/plain": [
       "                W          pval  equal_var\n",
       "levene  46.410802  2.256792e-28      False"
      ]
     },
     "execution_count": 26,
     "metadata": {},
     "output_type": "execute_result"
    }
   ],
   "source": [
    "#Homocedasticidad prueba de Levene (sin normalidad)\n",
    "#Ho:Homocedasticidad (p>0.05)\n",
    "#H1: No Homocedasticidad (p<0.05)\n",
    "pg.homoscedasticity(sample_age, dv='Consumption', \n",
    "                    group='Age',method='levene')"
   ]
  },
  {
   "cell_type": "code",
   "execution_count": 27,
   "id": "c288f996",
   "metadata": {
    "lines_to_next_cell": 0,
    "title": "Cumplimiento de supuestos"
   },
   "outputs": [
    {
     "data": {
      "text/html": [
       "<div>\n",
       "<style scoped>\n",
       "    .dataframe tbody tr th:only-of-type {\n",
       "        vertical-align: middle;\n",
       "    }\n",
       "\n",
       "    .dataframe tbody tr th {\n",
       "        vertical-align: top;\n",
       "    }\n",
       "\n",
       "    .dataframe thead th {\n",
       "        text-align: right;\n",
       "    }\n",
       "</style>\n",
       "<table border=\"1\" class=\"dataframe\">\n",
       "  <thead>\n",
       "    <tr style=\"text-align: right;\">\n",
       "      <th></th>\n",
       "      <th>T</th>\n",
       "      <th>pval</th>\n",
       "      <th>equal_var</th>\n",
       "    </tr>\n",
       "  </thead>\n",
       "  <tbody>\n",
       "    <tr>\n",
       "      <th>bartlett</th>\n",
       "      <td>161.379885</td>\n",
       "      <td>9.232823e-35</td>\n",
       "      <td>False</td>\n",
       "    </tr>\n",
       "  </tbody>\n",
       "</table>\n",
       "</div>"
      ],
      "text/plain": [
       "                   T          pval  equal_var\n",
       "bartlett  161.379885  9.232823e-35      False"
      ]
     },
     "execution_count": 27,
     "metadata": {},
     "output_type": "execute_result"
    }
   ],
   "source": [
    "#Homocedasticidad prueba de Bartlett (con normalidad)\n",
    "#Ho:Homocedasticidad (p>0.05)\n",
    "#H1: No Homocedasticidad (p<0.05)\n",
    "pg.homoscedasticity(sample_age, dv='Consumption', \n",
    "                    group='Age',method='bartlett')"
   ]
  },
  {
   "cell_type": "code",
   "execution_count": 28,
   "id": "8a3f114a",
   "metadata": {
    "lines_to_next_cell": 2,
    "title": "One way ANOVA"
   },
   "outputs": [
    {
     "data": {
      "text/html": [
       "<div>\n",
       "<style scoped>\n",
       "    .dataframe tbody tr th:only-of-type {\n",
       "        vertical-align: middle;\n",
       "    }\n",
       "\n",
       "    .dataframe tbody tr th {\n",
       "        vertical-align: top;\n",
       "    }\n",
       "\n",
       "    .dataframe thead th {\n",
       "        text-align: right;\n",
       "    }\n",
       "</style>\n",
       "<table border=\"1\" class=\"dataframe\">\n",
       "  <thead>\n",
       "    <tr style=\"text-align: right;\">\n",
       "      <th></th>\n",
       "      <th>sum_sq</th>\n",
       "      <th>df</th>\n",
       "      <th>F</th>\n",
       "      <th>PR(&gt;F)</th>\n",
       "    </tr>\n",
       "  </thead>\n",
       "  <tbody>\n",
       "    <tr>\n",
       "      <th>Age</th>\n",
       "      <td>2154.080000</td>\n",
       "      <td>3.0</td>\n",
       "      <td>136.569348</td>\n",
       "      <td>4.366819e-76</td>\n",
       "    </tr>\n",
       "    <tr>\n",
       "      <th>Residual</th>\n",
       "      <td>6288.086667</td>\n",
       "      <td>1196.0</td>\n",
       "      <td>NaN</td>\n",
       "      <td>NaN</td>\n",
       "    </tr>\n",
       "  </tbody>\n",
       "</table>\n",
       "</div>"
      ],
      "text/plain": [
       "               sum_sq      df           F        PR(>F)\n",
       "Age       2154.080000     3.0  136.569348  4.366819e-76\n",
       "Residual  6288.086667  1196.0         NaN           NaN"
      ]
     },
     "execution_count": 28,
     "metadata": {},
     "output_type": "execute_result"
    }
   ],
   "source": [
    "model =ols('Consumption ~ Age', data=sample_age).fit()\n",
    "anova_table = sm.stats.anova_lm(model,typ=2)\n",
    "anova_table"
   ]
  },
  {
   "cell_type": "code",
   "execution_count": 29,
   "id": "644509ac",
   "metadata": {},
   "outputs": [
    {
     "name": "stdout",
     "output_type": "stream",
     "text": [
      "Multiple Comparison of Means - Tukey HSD, FWER=0.05 \n",
      "====================================================\n",
      "group1 group2 meandiff p-adj   lower   upper  reject\n",
      "----------------------------------------------------\n",
      " 18-24  25-34    -1.96   -0.0 -2.4416 -1.4784   True\n",
      " 18-24  35-44     -3.0   -0.0 -3.4816 -2.5184   True\n",
      " 18-24    45+  -3.4933   -0.0  -3.975 -3.0117   True\n",
      " 25-34  35-44    -1.04    0.0 -1.5216 -0.5584   True\n",
      " 25-34    45+  -1.5333   -0.0  -2.015 -1.0517   True\n",
      " 35-44    45+  -0.4933 0.0423  -0.975 -0.0117   True\n",
      "----------------------------------------------------\n"
     ]
    }
   ],
   "source": [
    "# %%Comparación múltiple Prueba de Tukey\n",
    "comp = mc.MultiComparison(sample_age.Consumption, sample_age.Age)\n",
    "post_hoc_res = comp.tukeyhsd()\n",
    "print(post_hoc_res.summary())"
   ]
  },
  {
   "cell_type": "code",
   "execution_count": 30,
   "id": "2523c7d1",
   "metadata": {},
   "outputs": [
    {
     "data": {
      "text/plain": [
       "KruskalResult(statistic=281.77728999834886, pvalue=8.735044386245065e-61)"
      ]
     },
     "execution_count": 30,
     "metadata": {},
     "output_type": "execute_result"
    }
   ],
   "source": [
    "# la muesta de todos los grupos\n",
    "groups = [i.Consumption.to_numpy() for i in muestra_age]\n",
    "\n",
    "# prueba no parametrica, comparar con anova\n",
    "stats.kruskal(*groups)"
   ]
  },
  {
   "cell_type": "code",
   "execution_count": 31,
   "id": "7baffd8a",
   "metadata": {},
   "outputs": [
    {
     "data": {
      "text/html": [
       "<div>\n",
       "<style scoped>\n",
       "    .dataframe tbody tr th:only-of-type {\n",
       "        vertical-align: middle;\n",
       "    }\n",
       "\n",
       "    .dataframe tbody tr th {\n",
       "        vertical-align: top;\n",
       "    }\n",
       "\n",
       "    .dataframe thead th {\n",
       "        text-align: right;\n",
       "    }\n",
       "</style>\n",
       "<table border=\"1\" class=\"dataframe\">\n",
       "  <thead>\n",
       "    <tr style=\"text-align: right;\">\n",
       "      <th></th>\n",
       "      <th>1</th>\n",
       "      <th>2</th>\n",
       "      <th>3</th>\n",
       "      <th>4</th>\n",
       "    </tr>\n",
       "  </thead>\n",
       "  <tbody>\n",
       "    <tr>\n",
       "      <th>1</th>\n",
       "      <td>1.000000e+00</td>\n",
       "      <td>3.066883e-06</td>\n",
       "      <td>2.393454e-20</td>\n",
       "      <td>1.347223e-15</td>\n",
       "    </tr>\n",
       "    <tr>\n",
       "      <th>2</th>\n",
       "      <td>3.066883e-06</td>\n",
       "      <td>1.000000e+00</td>\n",
       "      <td>4.107984e-44</td>\n",
       "      <td>6.471109e-03</td>\n",
       "    </tr>\n",
       "    <tr>\n",
       "      <th>3</th>\n",
       "      <td>2.393454e-20</td>\n",
       "      <td>4.107984e-44</td>\n",
       "      <td>1.000000e+00</td>\n",
       "      <td>3.849390e-63</td>\n",
       "    </tr>\n",
       "    <tr>\n",
       "      <th>4</th>\n",
       "      <td>1.347223e-15</td>\n",
       "      <td>6.471109e-03</td>\n",
       "      <td>3.849390e-63</td>\n",
       "      <td>1.000000e+00</td>\n",
       "    </tr>\n",
       "  </tbody>\n",
       "</table>\n",
       "</div>"
      ],
      "text/plain": [
       "              1             2             3             4\n",
       "1  1.000000e+00  3.066883e-06  2.393454e-20  1.347223e-15\n",
       "2  3.066883e-06  1.000000e+00  4.107984e-44  6.471109e-03\n",
       "3  2.393454e-20  4.107984e-44  1.000000e+00  3.849390e-63\n",
       "4  1.347223e-15  6.471109e-03  3.849390e-63  1.000000e+00"
      ]
     },
     "execution_count": 31,
     "metadata": {},
     "output_type": "execute_result"
    }
   ],
   "source": [
    "pht = sp.posthoc_conover(np.array(groups), p_adjust='bonferroni')\n",
    "pht"
   ]
  },
  {
   "cell_type": "markdown",
   "id": "aedacfb9",
   "metadata": {},
   "source": [
    "### Anális por nivel de Educación"
   ]
  },
  {
   "cell_type": "code",
   "execution_count": 32,
   "id": "dab4d727",
   "metadata": {},
   "outputs": [
    {
     "name": "stderr",
     "output_type": "stream",
     "text": [
      "C:\\Users\\alber\\AppData\\Local\\Packages\\PythonSoftwareFoundation.Python.3.9_qbz5n2kfra8p0\\LocalCache\\local-packages\\Python39\\site-packages\\seaborn\\_decorators.py:36: FutureWarning: Pass the following variable as a keyword arg: x. From version 0.12, the only valid positional argument will be `data`, and passing other arguments without an explicit keyword will result in an error or misinterpretation.\n",
      "  warnings.warn(\n"
     ]
    },
    {
     "data": {
      "image/png": "[encoded data removed]",
      "text/plain": [
       "<Figure size 432x288 with 1 Axes>"
      ]
     },
     "metadata": {
      "needs_background": "light"
     },
     "output_type": "display_data"
    }
   ],
   "source": [
    "ax=sns.countplot(datos.Education)\n",
    "plt.xticks(rotation=90, size=12)\n",
    "plt.xlabel(\"Grupo de Nivel de Educación\", size=15)\n",
    "plt.ylabel(\"Cuentas\", size=15)\n",
    "plt.title(\"Número de entradas por grupo de nivel de Educación\", size=15);"
   ]
  },
  {
   "cell_type": "code",
   "execution_count": 33,
   "id": "02f1be7f",
   "metadata": {},
   "outputs": [],
   "source": [
    "muestra_education = [datos.query(f\"Education == '{i}'\").sample(250) for i in datos.Education.unique()]\n",
    "sample_education = pd.concat(muestra_education, axis=0)"
   ]
  },
  {
   "cell_type": "code",
   "execution_count": 34,
   "id": "5bcb4919",
   "metadata": {},
   "outputs": [
    {
     "name": "stderr",
     "output_type": "stream",
     "text": [
      "C:\\Users\\alber\\AppData\\Local\\Packages\\PythonSoftwareFoundation.Python.3.9_qbz5n2kfra8p0\\LocalCache\\local-packages\\Python39\\site-packages\\seaborn\\_decorators.py:36: FutureWarning: Pass the following variable as a keyword arg: x. From version 0.12, the only valid positional argument will be `data`, and passing other arguments without an explicit keyword will result in an error or misinterpretation.\n",
      "  warnings.warn(\n"
     ]
    },
    {
     "data": {
      "image/png": "[encoded data removed]",
      "text/plain": [
       "<Figure size 432x288 with 1 Axes>"
      ]
     },
     "metadata": {
      "needs_background": "light"
     },
     "output_type": "display_data"
    }
   ],
   "source": [
    "ax=sns.countplot(sample_education.Education)\n",
    "plt.xticks(rotation=90);"
   ]
  },
  {
   "cell_type": "code",
   "execution_count": 35,
   "id": "5a93074a",
   "metadata": {},
   "outputs": [
    {
     "data": {
      "text/html": [
       "<div>\n",
       "<style scoped>\n",
       "    .dataframe tbody tr th:only-of-type {\n",
       "        vertical-align: middle;\n",
       "    }\n",
       "\n",
       "    .dataframe tbody tr th {\n",
       "        vertical-align: top;\n",
       "    }\n",
       "\n",
       "    .dataframe thead th {\n",
       "        text-align: right;\n",
       "    }\n",
       "</style>\n",
       "<table border=\"1\" class=\"dataframe\">\n",
       "  <thead>\n",
       "    <tr style=\"text-align: right;\">\n",
       "      <th></th>\n",
       "      <th>Education</th>\n",
       "      <th>0</th>\n",
       "    </tr>\n",
       "  </thead>\n",
       "  <tbody>\n",
       "    <tr>\n",
       "      <th>0</th>\n",
       "      <td>Left school at or before 18</td>\n",
       "      <td>250</td>\n",
       "    </tr>\n",
       "    <tr>\n",
       "      <th>1</th>\n",
       "      <td>Master or Doctorate degree</td>\n",
       "      <td>250</td>\n",
       "    </tr>\n",
       "    <tr>\n",
       "      <th>2</th>\n",
       "      <td>Professional certificate/ diploma</td>\n",
       "      <td>250</td>\n",
       "    </tr>\n",
       "    <tr>\n",
       "      <th>3</th>\n",
       "      <td>Some co. or un. no certificate</td>\n",
       "      <td>250</td>\n",
       "    </tr>\n",
       "    <tr>\n",
       "      <th>4</th>\n",
       "      <td>University degree</td>\n",
       "      <td>250</td>\n",
       "    </tr>\n",
       "  </tbody>\n",
       "</table>\n",
       "</div>"
      ],
      "text/plain": [
       "                           Education    0\n",
       "0        Left school at or before 18  250\n",
       "1         Master or Doctorate degree  250\n",
       "2  Professional certificate/ diploma  250\n",
       "3     Some co. or un. no certificate  250\n",
       "4                  University degree  250"
      ]
     },
     "execution_count": 35,
     "metadata": {},
     "output_type": "execute_result"
    }
   ],
   "source": [
    "# Individuos por grupo\n",
    "groups = sample_education.groupby('Education').size().reset_index()\n",
    "groups"
   ]
  },
  {
   "cell_type": "code",
   "execution_count": 36,
   "id": "fb92c862",
   "metadata": {},
   "outputs": [
    {
     "name": "stdout",
     "output_type": "stream",
     "text": [
      "\n",
      "\n"
     ]
    },
    {
     "data": {
      "text/html": [
       "<div>\n",
       "<style scoped>\n",
       "    .dataframe tbody tr th:only-of-type {\n",
       "        vertical-align: middle;\n",
       "    }\n",
       "\n",
       "    .dataframe tbody tr th {\n",
       "        vertical-align: top;\n",
       "    }\n",
       "\n",
       "    .dataframe thead tr th {\n",
       "        text-align: left;\n",
       "    }\n",
       "\n",
       "    .dataframe thead tr:last-of-type th {\n",
       "        text-align: right;\n",
       "    }\n",
       "</style>\n",
       "<table border=\"1\" class=\"dataframe\">\n",
       "  <thead>\n",
       "    <tr>\n",
       "      <th></th>\n",
       "      <th colspan=\"6\" halign=\"left\">Consumption</th>\n",
       "    </tr>\n",
       "    <tr>\n",
       "      <th></th>\n",
       "      <th>N</th>\n",
       "      <th>Mean</th>\n",
       "      <th>SD</th>\n",
       "      <th>SE</th>\n",
       "      <th>95% Conf.</th>\n",
       "      <th>Interval</th>\n",
       "    </tr>\n",
       "    <tr>\n",
       "      <th>Education</th>\n",
       "      <th></th>\n",
       "      <th></th>\n",
       "      <th></th>\n",
       "      <th></th>\n",
       "      <th></th>\n",
       "      <th></th>\n",
       "    </tr>\n",
       "  </thead>\n",
       "  <tbody>\n",
       "    <tr>\n",
       "      <th>Left school at or before 18</th>\n",
       "      <td>250</td>\n",
       "      <td>5.660</td>\n",
       "      <td>2.6564</td>\n",
       "      <td>0.1680</td>\n",
       "      <td>5.3291</td>\n",
       "      <td>5.9909</td>\n",
       "    </tr>\n",
       "    <tr>\n",
       "      <th>Master or Doctorate degree</th>\n",
       "      <td>250</td>\n",
       "      <td>4.418</td>\n",
       "      <td>2.4082</td>\n",
       "      <td>0.1523</td>\n",
       "      <td>4.1180</td>\n",
       "      <td>4.7180</td>\n",
       "    </tr>\n",
       "    <tr>\n",
       "      <th>Professional certificate/ diploma</th>\n",
       "      <td>250</td>\n",
       "      <td>4.766</td>\n",
       "      <td>2.4036</td>\n",
       "      <td>0.1520</td>\n",
       "      <td>4.4666</td>\n",
       "      <td>5.0654</td>\n",
       "    </tr>\n",
       "    <tr>\n",
       "      <th>Some co. or un. no certificate</th>\n",
       "      <td>250</td>\n",
       "      <td>7.026</td>\n",
       "      <td>2.7324</td>\n",
       "      <td>0.1728</td>\n",
       "      <td>6.6856</td>\n",
       "      <td>7.3664</td>\n",
       "    </tr>\n",
       "    <tr>\n",
       "      <th>University degree</th>\n",
       "      <td>250</td>\n",
       "      <td>4.670</td>\n",
       "      <td>2.6145</td>\n",
       "      <td>0.1654</td>\n",
       "      <td>4.3443</td>\n",
       "      <td>4.9957</td>\n",
       "    </tr>\n",
       "  </tbody>\n",
       "</table>\n",
       "</div>"
      ],
      "text/plain": [
       "                                  Consumption                         \\\n",
       "                                            N   Mean      SD      SE   \n",
       "Education                                                              \n",
       "Left school at or before 18               250  5.660  2.6564  0.1680   \n",
       "Master or Doctorate degree                250  4.418  2.4082  0.1523   \n",
       "Professional certificate/ diploma         250  4.766  2.4036  0.1520   \n",
       "Some co. or un. no certificate            250  7.026  2.7324  0.1728   \n",
       "University degree                         250  4.670  2.6145  0.1654   \n",
       "\n",
       "                                                      \n",
       "                                  95% Conf. Interval  \n",
       "Education                                             \n",
       "Left school at or before 18          5.3291   5.9909  \n",
       "Master or Doctorate degree           4.1180   4.7180  \n",
       "Professional certificate/ diploma    4.4666   5.0654  \n",
       "Some co. or un. no certificate       6.6856   7.3664  \n",
       "University degree                    4.3443   4.9957  "
      ]
     },
     "execution_count": 36,
     "metadata": {},
     "output_type": "execute_result"
    }
   ],
   "source": [
    "# Estadisticos de cada distribucion\n",
    "res = rp.summary_cont(sample_education.groupby('Education'))\n",
    "res"
   ]
  },
  {
   "cell_type": "code",
   "execution_count": 37,
   "id": "72ed818c",
   "metadata": {},
   "outputs": [
    {
     "data": {
      "image/png": "[encoded data removed]",
      "text/plain": [
       "<Figure size 432x288 with 1 Axes>"
      ]
     },
     "metadata": {
      "needs_background": "light"
     },
     "output_type": "display_data"
    }
   ],
   "source": [
    "# prueba visual de las distribuciones y medias\n",
    "sample_education.boxplot('Consumption',by='Education',rot=90)\n",
    "plt.suptitle(\"Boxplot agrupado por Nivel de Educación\", size=15)\n",
    "plt.xlabel(\"Nivel de Educación\", size=13)\n",
    "plt.xticks(size=12)\n",
    "plt.title(\"\");"
   ]
  },
  {
   "cell_type": "code",
   "execution_count": 38,
   "id": "fd696ce7",
   "metadata": {},
   "outputs": [
    {
     "data": {
      "text/html": [
       "<div>\n",
       "<style scoped>\n",
       "    .dataframe tbody tr th:only-of-type {\n",
       "        vertical-align: middle;\n",
       "    }\n",
       "\n",
       "    .dataframe tbody tr th {\n",
       "        vertical-align: top;\n",
       "    }\n",
       "\n",
       "    .dataframe thead th {\n",
       "        text-align: right;\n",
       "    }\n",
       "</style>\n",
       "<table border=\"1\" class=\"dataframe\">\n",
       "  <thead>\n",
       "    <tr style=\"text-align: right;\">\n",
       "      <th></th>\n",
       "      <th>W</th>\n",
       "      <th>pval</th>\n",
       "      <th>normal</th>\n",
       "    </tr>\n",
       "  </thead>\n",
       "  <tbody>\n",
       "    <tr>\n",
       "      <th>Master or Doctorate degree</th>\n",
       "      <td>0.800870</td>\n",
       "      <td>3.564884e-17</td>\n",
       "      <td>False</td>\n",
       "    </tr>\n",
       "    <tr>\n",
       "      <th>Professional certificate/ diploma</th>\n",
       "      <td>0.862177</td>\n",
       "      <td>3.478173e-14</td>\n",
       "      <td>False</td>\n",
       "    </tr>\n",
       "    <tr>\n",
       "      <th>Left school at or before 18</th>\n",
       "      <td>0.929015</td>\n",
       "      <td>1.382400e-09</td>\n",
       "      <td>False</td>\n",
       "    </tr>\n",
       "    <tr>\n",
       "      <th>University degree</th>\n",
       "      <td>0.813081</td>\n",
       "      <td>1.225922e-16</td>\n",
       "      <td>False</td>\n",
       "    </tr>\n",
       "    <tr>\n",
       "      <th>Some co. or un. no certificate</th>\n",
       "      <td>0.985719</td>\n",
       "      <td>1.340838e-02</td>\n",
       "      <td>False</td>\n",
       "    </tr>\n",
       "  </tbody>\n",
       "</table>\n",
       "</div>"
      ],
      "text/plain": [
       "                                          W          pval  normal\n",
       "Master or Doctorate degree         0.800870  3.564884e-17   False\n",
       "Professional certificate/ diploma  0.862177  3.478173e-14   False\n",
       "Left school at or before 18        0.929015  1.382400e-09   False\n",
       "University degree                  0.813081  1.225922e-16   False\n",
       "Some co. or un. no certificate     0.985719  1.340838e-02   False"
      ]
     },
     "execution_count": 38,
     "metadata": {},
     "output_type": "execute_result"
    }
   ],
   "source": [
    "# Normalidad\n",
    "#Normalidad prueba de Shapiro-Wilk\n",
    "#Ho:Normalidad(p>0.05)\n",
    "#H1: No normalidad (p<0.05)\n",
    "#Normalidad en las variables\n",
    "pg.normality(sample_education, dv='Consumption', group='Education')"
   ]
  },
  {
   "cell_type": "code",
   "execution_count": 39,
   "id": "af974ea3",
   "metadata": {},
   "outputs": [
    {
     "data": {
      "text/html": [
       "<div>\n",
       "<style scoped>\n",
       "    .dataframe tbody tr th:only-of-type {\n",
       "        vertical-align: middle;\n",
       "    }\n",
       "\n",
       "    .dataframe tbody tr th {\n",
       "        vertical-align: top;\n",
       "    }\n",
       "\n",
       "    .dataframe thead th {\n",
       "        text-align: right;\n",
       "    }\n",
       "</style>\n",
       "<table border=\"1\" class=\"dataframe\">\n",
       "  <thead>\n",
       "    <tr style=\"text-align: right;\">\n",
       "      <th></th>\n",
       "      <th>Education</th>\n",
       "      <th>Consumption</th>\n",
       "    </tr>\n",
       "  </thead>\n",
       "  <tbody>\n",
       "    <tr>\n",
       "      <th>0</th>\n",
       "      <td>Left school at or before 18</td>\n",
       "      <td>7.056627</td>\n",
       "    </tr>\n",
       "    <tr>\n",
       "      <th>1</th>\n",
       "      <td>Master or Doctorate degree</td>\n",
       "      <td>5.799474</td>\n",
       "    </tr>\n",
       "    <tr>\n",
       "      <th>2</th>\n",
       "      <td>Professional certificate/ diploma</td>\n",
       "      <td>5.777353</td>\n",
       "    </tr>\n",
       "    <tr>\n",
       "      <th>3</th>\n",
       "      <td>Some co. or un. no certificate</td>\n",
       "      <td>7.466189</td>\n",
       "    </tr>\n",
       "    <tr>\n",
       "      <th>4</th>\n",
       "      <td>University degree</td>\n",
       "      <td>6.835442</td>\n",
       "    </tr>\n",
       "  </tbody>\n",
       "</table>\n",
       "</div>"
      ],
      "text/plain": [
       "                           Education  Consumption\n",
       "0        Left school at or before 18     7.056627\n",
       "1         Master or Doctorate degree     5.799474\n",
       "2  Professional certificate/ diploma     5.777353\n",
       "3     Some co. or un. no certificate     7.466189\n",
       "4                  University degree     6.835442"
      ]
     },
     "execution_count": 39,
     "metadata": {},
     "output_type": "execute_result"
    }
   ],
   "source": [
    "# Varianza entre grupos\n",
    "sample_education.groupby('Education')['Consumption'].var().reset_index()"
   ]
  },
  {
   "cell_type": "code",
   "execution_count": 40,
   "id": "769652fe",
   "metadata": {},
   "outputs": [
    {
     "data": {
      "text/html": [
       "<div>\n",
       "<style scoped>\n",
       "    .dataframe tbody tr th:only-of-type {\n",
       "        vertical-align: middle;\n",
       "    }\n",
       "\n",
       "    .dataframe tbody tr th {\n",
       "        vertical-align: top;\n",
       "    }\n",
       "\n",
       "    .dataframe thead th {\n",
       "        text-align: right;\n",
       "    }\n",
       "</style>\n",
       "<table border=\"1\" class=\"dataframe\">\n",
       "  <thead>\n",
       "    <tr style=\"text-align: right;\">\n",
       "      <th></th>\n",
       "      <th>W</th>\n",
       "      <th>pval</th>\n",
       "      <th>equal_var</th>\n",
       "    </tr>\n",
       "  </thead>\n",
       "  <tbody>\n",
       "    <tr>\n",
       "      <th>levene</th>\n",
       "      <td>4.101274</td>\n",
       "      <td>0.002629</td>\n",
       "      <td>False</td>\n",
       "    </tr>\n",
       "  </tbody>\n",
       "</table>\n",
       "</div>"
      ],
      "text/plain": [
       "               W      pval  equal_var\n",
       "levene  4.101274  0.002629      False"
      ]
     },
     "execution_count": 40,
     "metadata": {},
     "output_type": "execute_result"
    }
   ],
   "source": [
    "#Homocedasticidad prueba de Levene (sin normalidad)\n",
    "#Ho:Homocedasticidad (p>0.05)\n",
    "#H1: No Homocedasticidad (p<0.05)\n",
    "pg.homoscedasticity(sample_education, dv='Consumption', \n",
    "                    group='Education',method='levene')"
   ]
  },
  {
   "cell_type": "code",
   "execution_count": 41,
   "id": "c288f996",
   "metadata": {
    "lines_to_next_cell": 0,
    "title": "Cumplimiento de supuestos"
   },
   "outputs": [
    {
     "data": {
      "text/html": [
       "<div>\n",
       "<style scoped>\n",
       "    .dataframe tbody tr th:only-of-type {\n",
       "        vertical-align: middle;\n",
       "    }\n",
       "\n",
       "    .dataframe tbody tr th {\n",
       "        vertical-align: top;\n",
       "    }\n",
       "\n",
       "    .dataframe thead th {\n",
       "        text-align: right;\n",
       "    }\n",
       "</style>\n",
       "<table border=\"1\" class=\"dataframe\">\n",
       "  <thead>\n",
       "    <tr style=\"text-align: right;\">\n",
       "      <th></th>\n",
       "      <th>T</th>\n",
       "      <th>pval</th>\n",
       "      <th>equal_var</th>\n",
       "    </tr>\n",
       "  </thead>\n",
       "  <tbody>\n",
       "    <tr>\n",
       "      <th>bartlett</th>\n",
       "      <td>196.401931</td>\n",
       "      <td>2.526795e-42</td>\n",
       "      <td>False</td>\n",
       "    </tr>\n",
       "  </tbody>\n",
       "</table>\n",
       "</div>"
      ],
      "text/plain": [
       "                   T          pval  equal_var\n",
       "bartlett  196.401931  2.526795e-42      False"
      ]
     },
     "execution_count": 41,
     "metadata": {},
     "output_type": "execute_result"
    }
   ],
   "source": [
    "#Homocedasticidad prueba de Bartlett (con normalidad)\n",
    "#Ho:Homocedasticidad (p>0.05)\n",
    "#H1: No Homocedasticidad (p<0.05)\n",
    "pg.homoscedasticity(sample_education, dv='Consumption', \n",
    "                    group='Age',method='bartlett')"
   ]
  },
  {
   "cell_type": "code",
   "execution_count": 42,
   "id": "8a3f114a",
   "metadata": {
    "lines_to_next_cell": 2,
    "title": "One way ANOVA"
   },
   "outputs": [
    {
     "data": {
      "text/html": [
       "<div>\n",
       "<style scoped>\n",
       "    .dataframe tbody tr th:only-of-type {\n",
       "        vertical-align: middle;\n",
       "    }\n",
       "\n",
       "    .dataframe tbody tr th {\n",
       "        vertical-align: top;\n",
       "    }\n",
       "\n",
       "    .dataframe thead th {\n",
       "        text-align: right;\n",
       "    }\n",
       "</style>\n",
       "<table border=\"1\" class=\"dataframe\">\n",
       "  <thead>\n",
       "    <tr style=\"text-align: right;\">\n",
       "      <th></th>\n",
       "      <th>sum_sq</th>\n",
       "      <th>df</th>\n",
       "      <th>F</th>\n",
       "      <th>PR(&gt;F)</th>\n",
       "    </tr>\n",
       "  </thead>\n",
       "  <tbody>\n",
       "    <tr>\n",
       "      <th>Age</th>\n",
       "      <td>2406.872535</td>\n",
       "      <td>3.0</td>\n",
       "      <td>144.124503</td>\n",
       "      <td>3.618908e-80</td>\n",
       "    </tr>\n",
       "    <tr>\n",
       "      <th>Residual</th>\n",
       "      <td>6936.047465</td>\n",
       "      <td>1246.0</td>\n",
       "      <td>NaN</td>\n",
       "      <td>NaN</td>\n",
       "    </tr>\n",
       "  </tbody>\n",
       "</table>\n",
       "</div>"
      ],
      "text/plain": [
       "               sum_sq      df           F        PR(>F)\n",
       "Age       2406.872535     3.0  144.124503  3.618908e-80\n",
       "Residual  6936.047465  1246.0         NaN           NaN"
      ]
     },
     "execution_count": 42,
     "metadata": {},
     "output_type": "execute_result"
    }
   ],
   "source": [
    "model =ols('Consumption ~ Age', data=sample_education).fit()\n",
    "anova_table = sm.stats.anova_lm(model,typ=2)\n",
    "anova_table\n"
   ]
  },
  {
   "cell_type": "code",
   "execution_count": 43,
   "id": "644509ac",
   "metadata": {},
   "outputs": [
    {
     "name": "stdout",
     "output_type": "stream",
     "text": [
      "                           Multiple Comparison of Means - Tukey HSD, FWER=0.05                            \n",
      "==========================================================================================================\n",
      "              group1                            group2              meandiff p-adj   lower   upper  reject\n",
      "----------------------------------------------------------------------------------------------------------\n",
      "      Left school at or before 18        Master or Doctorate degree   -1.242    0.0 -1.8691 -0.6149   True\n",
      "      Left school at or before 18 Professional certificate/ diploma   -0.894  0.001 -1.5211 -0.2669   True\n",
      "      Left school at or before 18    Some co. or un. no certificate    1.366    0.0  0.7389  1.9931   True\n",
      "      Left school at or before 18                 University degree    -0.99 0.0002 -1.6171 -0.3629   True\n",
      "       Master or Doctorate degree Professional certificate/ diploma    0.348 0.5522 -0.2791  0.9751  False\n",
      "       Master or Doctorate degree    Some co. or un. no certificate    2.608   -0.0  1.9809  3.2351   True\n",
      "       Master or Doctorate degree                 University degree    0.252 0.8077 -0.3751  0.8791  False\n",
      "Professional certificate/ diploma    Some co. or un. no certificate     2.26   -0.0  1.6329  2.8871   True\n",
      "Professional certificate/ diploma                 University degree   -0.096 0.9936 -0.7231  0.5311  False\n",
      "   Some co. or un. no certificate                 University degree   -2.356   -0.0 -2.9831 -1.7289   True\n",
      "----------------------------------------------------------------------------------------------------------\n"
     ]
    }
   ],
   "source": [
    "# %%Comparación múltiple Prueba de Tukey\n",
    "comp = mc.MultiComparison(sample_education.Consumption, sample_education.Education)\n",
    "post_hoc_res = comp.tukeyhsd()\n",
    "print(post_hoc_res.summary())"
   ]
  },
  {
   "cell_type": "code",
   "execution_count": 44,
   "id": "2523c7d1",
   "metadata": {},
   "outputs": [
    {
     "data": {
      "text/plain": [
       "KruskalResult(statistic=174.32480549127115, pvalue=1.2334821693563082e-36)"
      ]
     },
     "execution_count": 44,
     "metadata": {},
     "output_type": "execute_result"
    }
   ],
   "source": [
    "# la muesta de todos los grupos\n",
    "groups = [i.Consumption.to_numpy() for i in muestra_education]\n",
    "\n",
    "# prueba no parametrica, comparar con anova\n",
    "stats.kruskal(*groups)"
   ]
  },
  {
   "cell_type": "code",
   "execution_count": 45,
   "id": "7baffd8a",
   "metadata": {},
   "outputs": [
    {
     "data": {
      "text/html": [
       "<div>\n",
       "<style scoped>\n",
       "    .dataframe tbody tr th:only-of-type {\n",
       "        vertical-align: middle;\n",
       "    }\n",
       "\n",
       "    .dataframe tbody tr th {\n",
       "        vertical-align: top;\n",
       "    }\n",
       "\n",
       "    .dataframe thead th {\n",
       "        text-align: right;\n",
       "    }\n",
       "</style>\n",
       "<table border=\"1\" class=\"dataframe\">\n",
       "  <thead>\n",
       "    <tr style=\"text-align: right;\">\n",
       "      <th></th>\n",
       "      <th>1</th>\n",
       "      <th>2</th>\n",
       "      <th>3</th>\n",
       "      <th>4</th>\n",
       "      <th>5</th>\n",
       "    </tr>\n",
       "  </thead>\n",
       "  <tbody>\n",
       "    <tr>\n",
       "      <th>1</th>\n",
       "      <td>1.000000e+00</td>\n",
       "      <td>2.121833e-01</td>\n",
       "      <td>1.374345e-09</td>\n",
       "      <td>1.000000e+00</td>\n",
       "      <td>6.968145e-32</td>\n",
       "    </tr>\n",
       "    <tr>\n",
       "      <th>2</th>\n",
       "      <td>2.121833e-01</td>\n",
       "      <td>1.000000e+00</td>\n",
       "      <td>3.306640e-04</td>\n",
       "      <td>1.000000e+00</td>\n",
       "      <td>1.168205e-21</td>\n",
       "    </tr>\n",
       "    <tr>\n",
       "      <th>3</th>\n",
       "      <td>1.374345e-09</td>\n",
       "      <td>3.306640e-04</td>\n",
       "      <td>1.000000e+00</td>\n",
       "      <td>1.187908e-06</td>\n",
       "      <td>7.318723e-08</td>\n",
       "    </tr>\n",
       "    <tr>\n",
       "      <th>4</th>\n",
       "      <td>1.000000e+00</td>\n",
       "      <td>1.000000e+00</td>\n",
       "      <td>1.187908e-06</td>\n",
       "      <td>1.000000e+00</td>\n",
       "      <td>1.379138e-26</td>\n",
       "    </tr>\n",
       "    <tr>\n",
       "      <th>5</th>\n",
       "      <td>6.968145e-32</td>\n",
       "      <td>1.168205e-21</td>\n",
       "      <td>7.318723e-08</td>\n",
       "      <td>1.379138e-26</td>\n",
       "      <td>1.000000e+00</td>\n",
       "    </tr>\n",
       "  </tbody>\n",
       "</table>\n",
       "</div>"
      ],
      "text/plain": [
       "              1             2             3             4             5\n",
       "1  1.000000e+00  2.121833e-01  1.374345e-09  1.000000e+00  6.968145e-32\n",
       "2  2.121833e-01  1.000000e+00  3.306640e-04  1.000000e+00  1.168205e-21\n",
       "3  1.374345e-09  3.306640e-04  1.000000e+00  1.187908e-06  7.318723e-08\n",
       "4  1.000000e+00  1.000000e+00  1.187908e-06  1.000000e+00  1.379138e-26\n",
       "5  6.968145e-32  1.168205e-21  7.318723e-08  1.379138e-26  1.000000e+00"
      ]
     },
     "execution_count": 45,
     "metadata": {},
     "output_type": "execute_result"
    }
   ],
   "source": [
    "pht = sp.posthoc_conover(np.array(groups), p_adjust='bonferroni')\n",
    "pht"
   ]
  },
  {
   "cell_type": "markdown",
   "id": "bb2f3765",
   "metadata": {},
   "source": [
    "### Two-Way ANOVA (Consumption <--> Age|Education)"
   ]
  },
  {
   "cell_type": "code",
   "execution_count": 46,
   "id": "7597a902",
   "metadata": {
    "lines_to_next_cell": 2,
    "title": "Two ways ANOVA"
   },
   "outputs": [
    {
     "name": "stdout",
     "output_type": "stream",
     "text": [
      "                 sum_sq      df           F        PR(>F)\n",
      "Age         2133.994601     3.0  131.844944  1.679020e-77\n",
      "Education    553.226888     4.0   25.635082  1.038656e-20\n",
      "Residual   10121.419270  1876.0         NaN           NaN\n"
     ]
    }
   ],
   "source": [
    "#Ho:m1=m2=m3+.... (p>0.05)\n",
    "#H1: mi dif mj (p<0.05)\n",
    "model =ols('Consumption ~ Age + Education ', data=datos).fit()\n",
    "anova_table = sm.stats.anova_lm(model,typ=2)\n",
    "print(anova_table)"
   ]
  },
  {
   "cell_type": "code",
   "execution_count": 47,
   "id": "bae09e5e",
   "metadata": {
    "title": "Interacción entre variables"
   },
   "outputs": [
    {
     "name": "stdout",
     "output_type": "stream",
     "text": [
      "                     sum_sq      df          F         PR(>F)\n",
      "Age:Education   4180.244029    19.0  41.005272  2.128082e-126\n",
      "Residual       10001.249071  1864.0        NaN            NaN\n"
     ]
    }
   ],
   "source": [
    "model =ols('Consumption ~ Age:Education', data=datos).fit()\n",
    "anova_table = sm.stats.anova_lm(model,typ=2)\n",
    "print(anova_table)"
   ]
  },
  {
   "cell_type": "code",
   "execution_count": 48,
   "id": "a7ad4ab4",
   "metadata": {
    "lines_to_next_cell": 3,
    "title": "Prueba de Tukey (HSD)"
   },
   "outputs": [
    {
     "name": "stdout",
     "output_type": "stream",
     "text": [
      "                                               Multiple Comparison of Means - Tukey HSD, FWER=0.05                                                \n",
      "==================================================================================================================================================\n",
      "                        group1                                                group2                        meandiff p-adj   lower   upper  reject\n",
      "--------------------------------------------------------------------------------------------------------------------------------------------------\n",
      "      Age18-24 & EducationLeft school at or before 18        Age18-24 & EducationMaster or Doctorate degree  -2.0568 0.0002 -3.5371 -0.5765   True\n",
      "      Age18-24 & EducationLeft school at or before 18 Age18-24 & EducationProfessional certificate/ diploma     0.03    1.0 -1.4737  1.5337  False\n",
      "      Age18-24 & EducationLeft school at or before 18    Age18-24 & EducationSome co. or un. no certificate   0.1808    1.0 -0.7646  1.1261  False\n",
      "      Age18-24 & EducationLeft school at or before 18                 Age18-24 & EducationUniversity degree  -1.2211 0.0139 -2.3283 -0.1139   True\n",
      "      Age18-24 & EducationLeft school at or before 18       Age25-34 & EducationLeft school at or before 18  -1.4966 0.0635 -3.0256  0.0324  False\n",
      "      Age18-24 & EducationLeft school at or before 18        Age25-34 & EducationMaster or Doctorate degree  -2.6326    0.0 -3.6962  -1.569   True\n",
      "      Age18-24 & EducationLeft school at or before 18 Age25-34 & EducationProfessional certificate/ diploma  -1.8562 0.0006 -3.2665 -0.4458   True\n",
      "      Age18-24 & EducationLeft school at or before 18    Age25-34 & EducationSome co. or un. no certificate  -0.7646 0.7834 -1.9831  0.4538  False\n",
      "      Age18-24 & EducationLeft school at or before 18                 Age25-34 & EducationUniversity degree  -2.5201    0.0 -3.5879 -1.4524   True\n",
      "      Age18-24 & EducationLeft school at or before 18       Age35-44 & EducationLeft school at or before 18  -2.9917    0.0 -4.4835 -1.4998   True\n",
      "      Age18-24 & EducationLeft school at or before 18        Age35-44 & EducationMaster or Doctorate degree  -3.7092    0.0 -4.9611 -2.4573   True\n",
      "      Age18-24 & EducationLeft school at or before 18 Age35-44 & EducationProfessional certificate/ diploma  -3.1313    0.0  -4.335 -1.9276   True\n",
      "      Age18-24 & EducationLeft school at or before 18    Age35-44 & EducationSome co. or un. no certificate  -2.2464    0.0 -3.6947 -0.7981   True\n",
      "      Age18-24 & EducationLeft school at or before 18                 Age35-44 & EducationUniversity degree  -3.3461    0.0 -4.5236 -2.1687   True\n",
      "      Age18-24 & EducationLeft school at or before 18         Age45+ & EducationLeft school at or before 18  -3.3964    0.0 -4.6625 -2.1304   True\n",
      "      Age18-24 & EducationLeft school at or before 18          Age45+ & EducationMaster or Doctorate degree  -3.7688    0.0 -4.9462 -2.5914   True\n",
      "      Age18-24 & EducationLeft school at or before 18   Age45+ & EducationProfessional certificate/ diploma  -3.9529    0.0 -5.1713 -2.7344   True\n",
      "      Age18-24 & EducationLeft school at or before 18      Age45+ & EducationSome co. or un. no certificate  -3.0544    0.0 -4.5705 -1.5383   True\n",
      "      Age18-24 & EducationLeft school at or before 18                   Age45+ & EducationUniversity degree  -3.7786    0.0  -4.928 -2.6292   True\n",
      "       Age18-24 & EducationMaster or Doctorate degree Age18-24 & EducationProfessional certificate/ diploma   2.0868 0.0041  0.3337  3.8399   True\n",
      "       Age18-24 & EducationMaster or Doctorate degree    Age18-24 & EducationSome co. or un. no certificate   2.2376    0.0  0.9314  3.5437   True\n",
      "       Age18-24 & EducationMaster or Doctorate degree                 Age18-24 & EducationUniversity degree   0.8357 0.8682 -0.5919  2.2633  False\n",
      "       Age18-24 & EducationMaster or Doctorate degree       Age25-34 & EducationLeft school at or before 18   0.5602 0.9999 -1.2147   2.335  False\n",
      "       Age18-24 & EducationMaster or Doctorate degree        Age25-34 & EducationMaster or Doctorate degree  -0.5758 0.9963 -1.9699  0.8183  False\n",
      "       Age18-24 & EducationMaster or Doctorate degree Age25-34 & EducationProfessional certificate/ diploma   0.2006    1.0 -1.4731  1.8744  False\n",
      "       Age18-24 & EducationMaster or Doctorate degree    Age25-34 & EducationSome co. or un. no certificate   1.2922 0.2188 -0.2234  2.8077  False\n",
      "       Age18-24 & EducationMaster or Doctorate degree                 Age25-34 & EducationUniversity degree  -0.4633 0.9998 -1.8606  0.9339  False\n",
      "       Age18-24 & EducationMaster or Doctorate degree       Age35-44 & EducationLeft school at or before 18  -0.9348 0.9366 -2.6777   0.808  False\n",
      "       Age18-24 & EducationMaster or Doctorate degree        Age35-44 & EducationMaster or Doctorate degree  -1.6524  0.021 -3.1949 -0.1098   True\n",
      "       Age18-24 & EducationMaster or Doctorate degree Age35-44 & EducationProfessional certificate/ diploma  -1.0745 0.5556 -2.5782  0.4292  False\n",
      "       Age18-24 & EducationMaster or Doctorate degree    Age35-44 & EducationSome co. or un. no certificate  -0.1896    1.0 -1.8954  1.5162  False\n",
      "       Age18-24 & EducationMaster or Doctorate degree                 Age35-44 & EducationUniversity degree  -1.2893 0.1891 -2.7721  0.1934  False\n",
      "       Age18-24 & EducationMaster or Doctorate degree         Age45+ & EducationLeft school at or before 18  -1.3396 0.2019 -2.8937  0.2144  False\n",
      "       Age18-24 & EducationMaster or Doctorate degree          Age45+ & EducationMaster or Doctorate degree   -1.712 0.0068 -3.1947 -0.2293   True\n",
      "       Age18-24 & EducationMaster or Doctorate degree   Age45+ & EducationProfessional certificate/ diploma  -1.8961 0.0016 -3.4116 -0.3806   True\n",
      "       Age18-24 & EducationMaster or Doctorate degree      Age45+ & EducationSome co. or un. no certificate  -0.9976 0.8997 -2.7614  0.7661  False\n",
      "       Age18-24 & EducationMaster or Doctorate degree                   Age45+ & EducationUniversity degree  -1.7218 0.0048 -3.1824 -0.2612   True\n",
      "Age18-24 & EducationProfessional certificate/ diploma    Age18-24 & EducationSome co. or un. no certificate   0.1507    1.0 -1.1818  1.4833  False\n",
      "Age18-24 & EducationProfessional certificate/ diploma                 Age18-24 & EducationUniversity degree  -1.2511 0.2025  -2.703  0.2008  False\n",
      "Age18-24 & EducationProfessional certificate/ diploma       Age25-34 & EducationLeft school at or before 18  -1.5267 0.2222 -3.3211  0.2677  False\n",
      "Age18-24 & EducationProfessional certificate/ diploma        Age25-34 & EducationMaster or Doctorate degree  -2.6626    0.0 -4.0816 -1.2437   True\n",
      "Age18-24 & EducationProfessional certificate/ diploma Age25-34 & EducationProfessional certificate/ diploma  -1.8862 0.0121 -3.5806 -0.1917   True\n",
      "Age18-24 & EducationProfessional certificate/ diploma    Age25-34 & EducationSome co. or un. no certificate  -0.7947 0.9554 -2.3331  0.7437  False\n",
      "Age18-24 & EducationProfessional certificate/ diploma                 Age25-34 & EducationUniversity degree  -2.5502    0.0 -3.9722 -1.1281   True\n",
      "Age18-24 & EducationProfessional certificate/ diploma       Age35-44 & EducationLeft school at or before 18  -3.0217    0.0 -4.7845 -1.2589   True\n",
      "Age18-24 & EducationProfessional certificate/ diploma        Age35-44 & EducationMaster or Doctorate degree  -3.7392    0.0 -5.3042 -2.1742   True\n",
      "Age18-24 & EducationProfessional certificate/ diploma Age35-44 & EducationProfessional certificate/ diploma  -3.1614    0.0 -4.6881 -1.6346   True\n",
      "Age18-24 & EducationProfessional certificate/ diploma    Age35-44 & EducationSome co. or un. no certificate  -2.2764 0.0005 -4.0025 -0.5503   True\n",
      "Age18-24 & EducationProfessional certificate/ diploma                 Age35-44 & EducationUniversity degree  -3.3762    0.0 -4.8823 -1.8701   True\n",
      "Age18-24 & EducationProfessional certificate/ diploma         Age45+ & EducationLeft school at or before 18  -3.4265    0.0 -5.0028 -1.8501   True\n",
      "Age18-24 & EducationProfessional certificate/ diploma          Age45+ & EducationMaster or Doctorate degree  -3.7988    0.0 -5.3049 -2.2928   True\n",
      "Age18-24 & EducationProfessional certificate/ diploma   Age45+ & EducationProfessional certificate/ diploma  -3.9829    0.0 -5.5213 -2.4445   True\n",
      "Age18-24 & EducationProfessional certificate/ diploma      Age45+ & EducationSome co. or un. no certificate  -3.0844    0.0 -4.8679  -1.301   True\n",
      "Age18-24 & EducationProfessional certificate/ diploma                   Age45+ & EducationUniversity degree  -3.8086    0.0 -5.2929 -2.3243   True\n",
      "   Age18-24 & EducationSome co. or un. no certificate                 Age18-24 & EducationUniversity degree  -1.4018    0.0 -2.2624 -0.5413   True\n",
      "   Age18-24 & EducationSome co. or un. no certificate       Age25-34 & EducationLeft school at or before 18  -1.6774 0.0021 -3.0384 -0.3164   True\n",
      "   Age18-24 & EducationSome co. or un. no certificate        Age25-34 & EducationMaster or Doctorate degree  -2.8134    0.0  -3.617 -2.0097   True\n",
      "   Age18-24 & EducationSome co. or un. no certificate Age25-34 & EducationProfessional certificate/ diploma  -2.0369    0.0 -3.2632 -0.8106   True\n",
      "   Age18-24 & EducationSome co. or un. no certificate    Age25-34 & EducationSome co. or un. no certificate  -0.9454 0.0907  -1.945  0.0542  False\n",
      "   Age18-24 & EducationSome co. or un. no certificate                 Age25-34 & EducationUniversity degree  -2.7009    0.0   -3.51 -1.8918   True\n",
      "   Age18-24 & EducationSome co. or un. no certificate       Age35-44 & EducationLeft school at or before 18  -3.1724    0.0 -4.4915 -1.8533   True\n",
      "   Age18-24 & EducationSome co. or un. no certificate        Age35-44 & EducationMaster or Doctorate degree  -3.8899    0.0 -4.9301 -2.8498   True\n",
      "   Age18-24 & EducationSome co. or un. no certificate Age35-44 & EducationProfessional certificate/ diploma  -3.3121    0.0 -4.2937 -2.3305   True\n",
      "   Age18-24 & EducationSome co. or un. no certificate    Age35-44 & EducationSome co. or un. no certificate  -2.4271    0.0 -3.6968 -1.1575   True\n",
      "   Age18-24 & EducationSome co. or un. no certificate                 Age35-44 & EducationUniversity degree  -3.5269    0.0  -4.476 -2.5778   True\n",
      "   Age18-24 & EducationSome co. or un. no certificate         Age45+ & EducationLeft school at or before 18  -3.5772    0.0 -4.6343 -2.5201   True\n",
      "   Age18-24 & EducationSome co. or un. no certificate          Age45+ & EducationMaster or Doctorate degree  -3.9496    0.0 -4.8987 -3.0005   True\n",
      "   Age18-24 & EducationSome co. or un. no certificate   Age45+ & EducationProfessional certificate/ diploma  -4.1336    0.0 -5.1333  -3.134   True\n",
      "   Age18-24 & EducationSome co. or un. no certificate      Age45+ & EducationSome co. or un. no certificate  -3.2352    0.0 -4.5817 -1.8886   True\n",
      "   Age18-24 & EducationSome co. or un. no certificate                   Age45+ & EducationUniversity degree  -3.9594    0.0 -4.8736 -3.0452   True\n",
      "                Age18-24 & EducationUniversity degree       Age25-34 & EducationLeft school at or before 18  -0.2756    1.0 -1.7536  1.2025  False\n",
      "                Age18-24 & EducationUniversity degree        Age25-34 & EducationMaster or Doctorate degree  -1.4115 0.0001 -2.4005 -0.4226   True\n",
      "                Age18-24 & EducationUniversity degree Age25-34 & EducationProfessional certificate/ diploma  -0.6351 0.9835   -1.99  0.7199  False\n",
      "                Age18-24 & EducationUniversity degree    Age25-34 & EducationSome co. or un. no certificate   0.4564 0.9978 -0.6974  1.6103  False\n",
      "                Age18-24 & EducationUniversity degree                 Age25-34 & EducationUniversity degree   -1.299 0.0006 -2.2925 -0.3056   True\n",
      "                Age18-24 & EducationUniversity degree       Age35-44 & EducationLeft school at or before 18  -1.7706 0.0022 -3.2101  -0.331   True\n",
      "                Age18-24 & EducationUniversity degree        Age35-44 & EducationMaster or Doctorate degree  -2.4881    0.0 -3.6772  -1.299   True\n",
      "                Age18-24 & EducationUniversity degree Age35-44 & EducationProfessional certificate/ diploma  -1.9102    0.0 -3.0485  -0.772   True\n",
      "                Age18-24 & EducationUniversity degree    Age35-44 & EducationSome co. or un. no certificate  -1.0253 0.4979 -2.4197  0.3691  False\n",
      "                Age18-24 & EducationUniversity degree                 Age35-44 & EducationUniversity degree  -2.1251    0.0 -3.2355 -1.0146   True\n",
      "                Age18-24 & EducationUniversity degree         Age45+ & EducationLeft school at or before 18  -2.1754    0.0 -3.3793 -0.9714   True\n",
      "                Age18-24 & EducationUniversity degree          Age45+ & EducationMaster or Doctorate degree  -2.5477    0.0 -3.6582 -1.4373   True\n",
      "                Age18-24 & EducationUniversity degree   Age45+ & EducationProfessional certificate/ diploma  -2.7318    0.0 -3.8857 -1.5779   True\n",
      "                Age18-24 & EducationUniversity degree      Age45+ & EducationSome co. or un. no certificate  -1.8333 0.0016  -3.298 -0.3686   True\n",
      "                Age18-24 & EducationUniversity degree                   Age45+ & EducationUniversity degree  -2.5575    0.0 -3.6382 -1.4768   True\n",
      "      Age25-34 & EducationLeft school at or before 18        Age25-34 & EducationMaster or Doctorate degree   -1.136 0.3643 -2.5817  0.3097  False\n",
      "      Age25-34 & EducationLeft school at or before 18 Age25-34 & EducationProfessional certificate/ diploma  -0.3595    1.0 -2.0765  1.3574  False\n",
      "      Age25-34 & EducationLeft school at or before 18    Age25-34 & EducationSome co. or un. no certificate    0.732 0.9837 -0.8311  2.2951  False\n",
      "      Age25-34 & EducationLeft school at or before 18                 Age25-34 & EducationUniversity degree  -1.0235 0.5783 -2.4722  0.4252  False\n",
      "      Age25-34 & EducationLeft school at or before 18       Age35-44 & EducationLeft school at or before 18   -1.495 0.2472 -3.2794  0.2894  False\n",
      "      Age25-34 & EducationLeft school at or before 18        Age35-44 & EducationMaster or Doctorate degree  -2.2125 0.0002 -3.8019 -0.6232   True\n",
      "      Age25-34 & EducationLeft school at or before 18 Age35-44 & EducationProfessional certificate/ diploma  -1.6347 0.0263 -3.1863  -0.083   True\n",
      "      Age25-34 & EducationLeft school at or before 18    Age35-44 & EducationSome co. or un. no certificate  -0.7497 0.9941 -2.4979  0.9984  False\n",
      "      Age25-34 & EducationLeft school at or before 18                 Age35-44 & EducationUniversity degree  -1.8495 0.0031 -3.3808 -0.3182   True\n",
      "      Age25-34 & EducationLeft school at or before 18         Age45+ & EducationLeft school at or before 18  -1.8998 0.0043 -3.5003 -0.2993   True\n",
      "      Age25-34 & EducationLeft school at or before 18          Age45+ & EducationMaster or Doctorate degree  -2.2722    0.0 -3.8035 -0.7409   True\n",
      "      Age25-34 & EducationLeft school at or before 18   Age45+ & EducationProfessional certificate/ diploma  -2.4562    0.0 -4.0194 -0.8931   True\n",
      "      Age25-34 & EducationLeft school at or before 18      Age45+ & EducationSome co. or un. no certificate  -1.5578    0.2 -3.3626   0.247  False\n",
      "      Age25-34 & EducationLeft school at or before 18                   Age45+ & EducationUniversity degree   -2.282    0.0 -3.7919  -0.772   True\n",
      "       Age25-34 & EducationMaster or Doctorate degree Age25-34 & EducationProfessional certificate/ diploma   0.7765 0.8629 -0.5431   2.096  False\n",
      "       Age25-34 & EducationMaster or Doctorate degree    Age25-34 & EducationSome co. or un. no certificate    1.868    0.0  0.7559  2.9801   True\n",
      "       Age25-34 & EducationMaster or Doctorate degree                 Age25-34 & EducationUniversity degree   0.1125    1.0 -0.8321  1.0571  False\n",
      "       Age25-34 & EducationMaster or Doctorate degree       Age35-44 & EducationLeft school at or before 18   -0.359    1.0 -1.7653  1.0472  False\n",
      "       Age25-34 & EducationMaster or Doctorate degree        Age35-44 & EducationMaster or Doctorate degree  -1.0766 0.0991 -2.2252  0.0721  False\n",
      "       Age25-34 & EducationMaster or Doctorate degree Age35-44 & EducationProfessional certificate/ diploma  -0.4987 0.9882 -1.5946  0.5972  False\n",
      "       Age25-34 & EducationMaster or Doctorate degree    Age35-44 & EducationSome co. or un. no certificate   0.3862    1.0 -0.9738  1.7462  False\n",
      "       Age25-34 & EducationMaster or Doctorate degree                 Age35-44 & EducationUniversity degree  -0.7135 0.6814 -1.7805  0.3534  False\n",
      "       Age25-34 & EducationMaster or Doctorate degree         Age45+ & EducationLeft school at or before 18  -0.7638 0.7141 -1.9278  0.4002  False\n",
      "       Age25-34 & EducationMaster or Doctorate degree          Age45+ & EducationMaster or Doctorate degree  -1.1362 0.0228 -2.2032 -0.0693   True\n",
      "       Age25-34 & EducationMaster or Doctorate degree   Age45+ & EducationProfessional certificate/ diploma  -1.3203 0.0042 -2.4324 -0.2082   True\n",
      "       Age25-34 & EducationMaster or Doctorate degree      Age45+ & EducationSome co. or un. no certificate  -0.4218    1.0 -1.8538  1.0102  False\n",
      "       Age25-34 & EducationMaster or Doctorate degree                   Age45+ & EducationUniversity degree   -1.146 0.0133  -2.182   -0.11   True\n",
      "Age25-34 & EducationProfessional certificate/ diploma    Age25-34 & EducationSome co. or un. no certificate   1.0915 0.4464 -0.3558  2.5388  False\n",
      "Age25-34 & EducationProfessional certificate/ diploma                 Age25-34 & EducationUniversity degree   -0.664 0.9663 -1.9869   0.659  False\n",
      "Age25-34 & EducationProfessional certificate/ diploma       Age35-44 & EducationLeft school at or before 18  -1.1355 0.6666 -2.8194  0.5484  False\n",
      "Age25-34 & EducationProfessional certificate/ diploma        Age35-44 & EducationMaster or Doctorate degree   -1.853 0.0015 -3.3286 -0.3775   True\n",
      "Age25-34 & EducationProfessional certificate/ diploma Age35-44 & EducationProfessional certificate/ diploma  -1.2752 0.1591 -2.7101  0.1597  False\n",
      "Age25-34 & EducationProfessional certificate/ diploma    Age35-44 & EducationSome co. or un. no certificate  -0.3902    1.0 -2.0357  1.2552  False\n",
      "Age25-34 & EducationProfessional certificate/ diploma                 Age35-44 & EducationUniversity degree    -1.49 0.0259 -2.9029 -0.0771   True\n",
      "Age25-34 & EducationProfessional certificate/ diploma         Age45+ & EducationLeft school at or before 18  -1.5403 0.0329 -3.0278 -0.0527   True\n",
      "Age25-34 & EducationProfessional certificate/ diploma          Age45+ & EducationMaster or Doctorate degree  -1.9127 0.0003 -3.3256 -0.4998   True\n",
      "Age25-34 & EducationProfessional certificate/ diploma   Age45+ & EducationProfessional certificate/ diploma  -2.0967 0.0001  -3.544 -0.6494   True\n",
      "Age25-34 & EducationProfessional certificate/ diploma      Age45+ & EducationSome co. or un. no certificate  -1.1983 0.5891 -2.9037  0.5072  False\n",
      "Age25-34 & EducationProfessional certificate/ diploma                   Age45+ & EducationUniversity degree  -1.9224 0.0002 -3.3121 -0.5328   True\n",
      "   Age25-34 & EducationSome co. or un. no certificate                 Age25-34 & EducationUniversity degree  -1.7555    0.0 -2.8715 -0.6394   True\n",
      "   Age25-34 & EducationSome co. or un. no certificate       Age35-44 & EducationLeft school at or before 18   -2.227    0.0 -3.7538 -0.7003   True\n",
      "   Age25-34 & EducationSome co. or un. no certificate        Age35-44 & EducationMaster or Doctorate degree  -2.9445    0.0 -4.2379 -1.6512   True\n",
      "   Age25-34 & EducationSome co. or un. no certificate Age35-44 & EducationProfessional certificate/ diploma  -2.3667    0.0 -3.6134 -1.1199   True\n",
      "   Age25-34 & EducationSome co. or un. no certificate    Age35-44 & EducationSome co. or un. no certificate  -1.4817  0.051  -2.966  0.0025  False\n",
      "   Age25-34 & EducationSome co. or un. no certificate                 Age35-44 & EducationUniversity degree  -2.5815    0.0 -3.8029 -1.3601   True\n",
      "   Age25-34 & EducationSome co. or un. no certificate         Age45+ & EducationLeft school at or before 18  -2.6318    0.0 -3.9388 -1.3248   True\n",
      "   Age25-34 & EducationSome co. or un. no certificate          Age45+ & EducationMaster or Doctorate degree  -3.0042    0.0 -4.2256 -1.7828   True\n",
      "   Age25-34 & EducationSome co. or un. no certificate   Age45+ & EducationProfessional certificate/ diploma  -3.1882    0.0 -4.4492 -1.9272   True\n",
      "   Age25-34 & EducationSome co. or un. no certificate      Age45+ & EducationSome co. or un. no certificate  -2.2898    0.0 -3.8403 -0.7393   True\n",
      "   Age25-34 & EducationSome co. or un. no certificate                   Age45+ & EducationUniversity degree   -3.014    0.0 -4.2084 -1.8195   True\n",
      "                Age25-34 & EducationUniversity degree       Age35-44 & EducationLeft school at or before 18  -0.4715 0.9998 -1.8809  0.9379  False\n",
      "                Age25-34 & EducationUniversity degree        Age35-44 & EducationMaster or Doctorate degree   -1.189 0.0344 -2.3415 -0.0366   True\n",
      "                Age25-34 & EducationUniversity degree Age35-44 & EducationProfessional certificate/ diploma  -0.6112 0.9136 -1.7111  0.4887  False\n",
      "                Age25-34 & EducationUniversity degree    Age35-44 & EducationSome co. or un. no certificate   0.2737    1.0 -1.0895   1.637  False\n",
      "                Age25-34 & EducationUniversity degree                 Age35-44 & EducationUniversity degree   -0.826 0.4014 -1.8971  0.2451  False\n",
      "                Age25-34 & EducationUniversity degree         Age45+ & EducationLeft school at or before 18  -0.8763 0.4566 -2.0441  0.2915  False\n",
      "                Age25-34 & EducationUniversity degree          Age45+ & EducationMaster or Doctorate degree  -1.2487 0.0058 -2.3198 -0.1776   True\n",
      "                Age25-34 & EducationUniversity degree   Age45+ & EducationProfessional certificate/ diploma  -1.4327  0.001 -2.5488 -0.3167   True\n",
      "                Age25-34 & EducationUniversity degree      Age45+ & EducationSome co. or un. no certificate  -0.5343  0.999 -1.9694  0.9008  False\n",
      "                Age25-34 & EducationUniversity degree                   Age45+ & EducationUniversity degree  -1.2585  0.003 -2.2987 -0.2182   True\n",
      "      Age35-44 & EducationLeft school at or before 18        Age35-44 & EducationMaster or Doctorate degree  -0.7175  0.986 -2.2711   0.836  False\n",
      "      Age35-44 & EducationLeft school at or before 18 Age35-44 & EducationProfessional certificate/ diploma  -0.1397    1.0 -1.6547  1.3753  False\n",
      "      Age35-44 & EducationLeft school at or before 18    Age35-44 & EducationSome co. or un. no certificate   0.7453 0.9931 -0.9705   2.461  False\n",
      "      Age35-44 & EducationLeft school at or before 18                 Age35-44 & EducationUniversity degree  -0.3545    1.0 -1.8487  1.1397  False\n",
      "      Age35-44 & EducationLeft school at or before 18         Age45+ & EducationLeft school at or before 18  -0.4048    1.0 -1.9698  1.1602  False\n",
      "      Age35-44 & EducationLeft school at or before 18          Age45+ & EducationMaster or Doctorate degree  -0.7772 0.9523 -2.2714   0.717  False\n",
      "      Age35-44 & EducationLeft school at or before 18   Age45+ & EducationProfessional certificate/ diploma  -0.9612 0.7788  -2.488  0.5655  False\n",
      "      Age35-44 & EducationLeft school at or before 18      Age45+ & EducationSome co. or un. no certificate  -0.0628    1.0 -1.8362  1.7106  False\n",
      "      Age35-44 & EducationLeft school at or before 18                   Age45+ & EducationUniversity degree   -0.787 0.9385 -2.2592  0.6853  False\n",
      "       Age35-44 & EducationMaster or Doctorate degree Age35-44 & EducationProfessional certificate/ diploma   0.5778 0.9891 -0.7016  1.8573  False\n",
      "       Age35-44 & EducationMaster or Doctorate degree    Age35-44 & EducationSome co. or un. no certificate   1.4628 0.0719  -0.049  2.9746  False\n",
      "       Age35-44 & EducationMaster or Doctorate degree                 Age35-44 & EducationUniversity degree    0.363    1.0 -0.8917  1.6178  False\n",
      "       Age35-44 & EducationMaster or Doctorate degree         Age45+ & EducationLeft school at or before 18   0.3127    1.0 -1.0255   1.651  False\n",
      "       Age35-44 & EducationMaster or Doctorate degree          Age45+ & EducationMaster or Doctorate degree  -0.0596    1.0 -1.3144  1.1951  False\n",
      "       Age35-44 & EducationMaster or Doctorate degree   Age45+ & EducationProfessional certificate/ diploma  -0.2437    1.0  -1.537  1.0496  False\n",
      "       Age35-44 & EducationMaster or Doctorate degree      Age45+ & EducationSome co. or un. no certificate   0.6548  0.996 -0.9222  2.2317  False\n",
      "       Age35-44 & EducationMaster or Doctorate degree                   Age45+ & EducationUniversity degree  -0.0694    1.0 -1.2979  1.1591  False\n",
      "Age35-44 & EducationProfessional certificate/ diploma    Age35-44 & EducationSome co. or un. no certificate   0.8849 0.8392 -0.5872  2.3571  False\n",
      "Age35-44 & EducationProfessional certificate/ diploma                 Age35-44 & EducationUniversity degree  -0.2148    1.0 -1.4215  0.9918  False\n",
      "Age35-44 & EducationProfessional certificate/ diploma         Age45+ & EducationLeft school at or before 18  -0.2651    1.0 -1.5584  1.0282  False\n",
      "Age35-44 & EducationProfessional certificate/ diploma          Age45+ & EducationMaster or Doctorate degree  -0.6375 0.9448 -1.8442  0.5692  False\n",
      "Age35-44 & EducationProfessional certificate/ diploma   Age45+ & EducationProfessional certificate/ diploma  -0.8215  0.707 -2.0683  0.4252  False\n",
      "Age35-44 & EducationProfessional certificate/ diploma      Age45+ & EducationSome co. or un. no certificate   0.0769    1.0  -1.462  1.6159  False\n",
      "Age35-44 & EducationProfessional certificate/ diploma                   Age45+ & EducationUniversity degree  -0.6473 0.9223 -1.8266  0.5321  False\n",
      "   Age35-44 & EducationSome co. or un. no certificate                 Age35-44 & EducationUniversity degree  -1.0998 0.4359 -2.5505   0.351  False\n",
      "   Age35-44 & EducationSome co. or un. no certificate         Age45+ & EducationLeft school at or before 18  -1.1501 0.4445 -2.6736  0.3735  False\n",
      "   Age35-44 & EducationSome co. or un. no certificate          Age45+ & EducationMaster or Doctorate degree  -1.5224 0.0277 -2.9732 -0.0717   True\n",
      "   Age35-44 & EducationSome co. or un. no certificate   Age45+ & EducationProfessional certificate/ diploma  -1.7065 0.0073 -3.1907 -0.2223   True\n",
      "   Age35-44 & EducationSome co. or un. no certificate      Age45+ & EducationSome co. or un. no certificate   -0.808 0.9848  -2.545  0.9289  False\n",
      "   Age35-44 & EducationSome co. or un. no certificate                   Age45+ & EducationUniversity degree  -1.5322 0.0206 -2.9603 -0.1041   True\n",
      "                Age35-44 & EducationUniversity degree         Age45+ & EducationLeft school at or before 18  -0.0503    1.0 -1.3191  1.2185  False\n",
      "                Age35-44 & EducationUniversity degree          Age45+ & EducationMaster or Doctorate degree  -0.4227 0.9994 -1.6031  0.7577  False\n",
      "                Age35-44 & EducationUniversity degree   Age45+ & EducationProfessional certificate/ diploma  -0.6067 0.9696 -1.8281  0.6146  False\n",
      "                Age35-44 & EducationUniversity degree      Age45+ & EducationSome co. or un. no certificate   0.2917    1.0 -1.2267  1.8102  False\n",
      "                Age35-44 & EducationUniversity degree                   Age45+ & EducationUniversity degree  -0.4325 0.9989  -1.585  0.7201  False\n",
      "        Age45+ & EducationLeft school at or before 18          Age45+ & EducationMaster or Doctorate degree  -0.3724    1.0 -1.6412  0.8964  False\n",
      "        Age45+ & EducationLeft school at or before 18   Age45+ & EducationProfessional certificate/ diploma  -0.5564 0.9946 -1.8635  0.7506  False\n",
      "        Age45+ & EducationLeft school at or before 18      Age45+ & EducationSome co. or un. no certificate    0.342    1.0 -1.2461  1.9302  False\n",
      "        Age45+ & EducationLeft school at or before 18                   Age45+ & EducationUniversity degree  -0.3822 0.9999 -1.6251  0.8607  False\n",
      "         Age45+ & EducationMaster or Doctorate degree   Age45+ & EducationProfessional certificate/ diploma  -0.1841    1.0 -1.4054  1.0373  False\n",
      "         Age45+ & EducationMaster or Doctorate degree      Age45+ & EducationSome co. or un. no certificate   0.7144 0.9829 -0.8041  2.2329  False\n",
      "         Age45+ & EducationMaster or Doctorate degree                   Age45+ & EducationUniversity degree  -0.0098    1.0 -1.1623  1.1427  False\n",
      "  Age45+ & EducationProfessional certificate/ diploma      Age45+ & EducationSome co. or un. no certificate   0.8985 0.8782 -0.6521   2.449  False\n",
      "  Age45+ & EducationProfessional certificate/ diploma                   Age45+ & EducationUniversity degree   0.1743    1.0 -1.0201  1.3687  False\n",
      "     Age45+ & EducationSome co. or un. no certificate                   Age45+ & EducationUniversity degree  -0.7242 0.9769 -2.2211  0.7727  False\n",
      "--------------------------------------------------------------------------------------------------------------------------------------------------\n"
     ]
    }
   ],
   "source": [
    "interaction_groups = \"Age\" + datos.Age.astype(str) + \" & \" + \"Education\" + datos.Education.astype(str)\n",
    "comp = mc.MultiComparison(datos[\"Consumption\"], interaction_groups)\n",
    "post_hoc_res = comp.tukeyhsd()\n",
    "print(post_hoc_res.summary())"
   ]
  }
 ],
 "metadata": {
  "jupytext": {
   "cell_metadata_filter": "title,-all",
   "encoding": "# -*- coding: utf-8 -*-",
   "main_language": "python",
   "notebook_metadata_filter": "-all"
  },
  "kernelspec": {
   "display_name": "Python 3.9.13 64-bit (microsoft store)",
   "language": "python",
   "name": "python3"
  },
  "language_info": {
   "codemirror_mode": {
    "name": "ipython",
    "version": 3
   },
   "file_extension": ".py",
   "mimetype": "text/x-python",
   "name": "python",
   "nbconvert_exporter": "python",
   "pygments_lexer": "ipython3",
   "version": "3.9.13"
  },
  "vscode": {
   "interpreter": {
    "hash": "d61563a70a2a8b9e0039ff946e74060b3c0a95f46ba553f8ed317942d1ccd808"
   }
  }
 },
 "nbformat": 4,
 "nbformat_minor": 5
}
